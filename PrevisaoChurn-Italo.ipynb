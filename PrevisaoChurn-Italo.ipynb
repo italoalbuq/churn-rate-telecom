{
 "cells": [
  {
   "cell_type": "markdown",
   "id": "288c53ca",
   "metadata": {},
   "source": [
    "# 0.0 IMPORT"
   ]
  },
  {
   "cell_type": "code",
   "execution_count": 1,
   "id": "af53f11f",
   "metadata": {},
   "outputs": [],
   "source": [
    "# import warnings filter\n",
    "from warnings import simplefilter\n",
    "# ignore all future warnings\n",
    "simplefilter(action='ignore', category=FutureWarning)\n",
    "\n",
    "import matplotlib.pyplot         as plt\n",
    "import seaborn                   as sns\n",
    "import pandas                    as pd\n",
    "import numpy                     as np\n",
    "\n",
    "from sklearn.model_selection     import train_test_split\n",
    "from imblearn.over_sampling      import SMOTE\n",
    "from sklearn.preprocessing       import OneHotEncoder, MinMaxScaler\n",
    "from sklearn.linear_model        import LogisticRegression\n",
    "from sklearn.ensemble            import RandomForestClassifier\n",
    "from sklearn.metrics             import accuracy_score, f1_score, confusion_matrix, classification_report\n",
    "from sklearn.tree                import DecisionTreeClassifier\n",
    "from sklearn.svm                 import SVC\n",
    "from xgboost                     import XGBClassifier\n",
    "\n",
    "import pickle\n",
    "import pylab\n",
    "\n",
    "\n",
    "%matplotlib inline"
   ]
  },
  {
   "cell_type": "markdown",
   "id": "47d12f8b",
   "metadata": {},
   "source": [
    "## 0.1 Help Functions"
   ]
  },
  {
   "cell_type": "code",
   "execution_count": 2,
   "id": "72c72fdb",
   "metadata": {},
   "outputs": [],
   "source": [
    "# Converte um objeto do tipo string em float.\n",
    "def converter_str_float(entrada):\n",
    "    try:\n",
    "        return float(entrada)\n",
    "    except ValueError:\n",
    "        return np.nan\n",
    "\n",
    "#tamanho dos gráficos\n",
    "def tamanho( x, y ):\n",
    "    pylab.rcParams['figure.figsize'] = (x, y)"
   ]
  },
  {
   "cell_type": "markdown",
   "id": "306e0a19",
   "metadata": {},
   "source": [
    "## 0.2 Loading Dataset"
   ]
  },
  {
   "cell_type": "code",
   "execution_count": 3,
   "id": "84da24e4",
   "metadata": {},
   "outputs": [],
   "source": [
    "df_raw = pd.read_csv('churn-dados.csv', low_memory = False)"
   ]
  },
  {
   "cell_type": "markdown",
   "id": "75894465",
   "metadata": {},
   "source": [
    "# 1.0 DESCRIÇÃO DOS DADOS"
   ]
  },
  {
   "cell_type": "code",
   "execution_count": 4,
   "id": "41fec5fb",
   "metadata": {},
   "outputs": [],
   "source": [
    "df1 = df_raw.copy()"
   ]
  },
  {
   "cell_type": "code",
   "execution_count": 5,
   "id": "ad105390",
   "metadata": {},
   "outputs": [],
   "source": [
    "df1 = df1.rename(columns={'customerID': 'id', 'gender': 'genero', 'SeniorCitizen': 'antigo', 'Dependents': 'dependentes',\n",
    "                         'tenure': 'posse', 'PhoneService': 'servico_telefone', 'MultipleLines': 'linhas_multiplas',\n",
    "                         'InternetService': 'servico_internet', 'OnlineSecurity': 'seguranca_online', \n",
    "                          'OnlineBackup': 'backup_online', 'DeviceProtection': 'protecao_dispositivo',\n",
    "                          'TechSupport': 'suporte_tecnico', 'StreamingTV': 'streaming_tv', 'StreamingMovies': 'streaming_video',\n",
    "                          'Contract': 'contrato', 'PaperlessBilling': 'faturamento_sem_papel', 'PaymentMethod': 'metodo_pagamento',\n",
    "                          'MonthlyCharges': 'mensalidade', 'TotalCharges': 'custos_totais', 'Partner': 'parceiro', \n",
    "                          'Churn': 'churn'})"
   ]
  },
  {
   "cell_type": "code",
   "execution_count": 6,
   "id": "4ce5e51c",
   "metadata": {},
   "outputs": [
    {
     "data": {
      "text/html": [
       "<div>\n",
       "<style scoped>\n",
       "    .dataframe tbody tr th:only-of-type {\n",
       "        vertical-align: middle;\n",
       "    }\n",
       "\n",
       "    .dataframe tbody tr th {\n",
       "        vertical-align: top;\n",
       "    }\n",
       "\n",
       "    .dataframe thead th {\n",
       "        text-align: right;\n",
       "    }\n",
       "</style>\n",
       "<table border=\"1\" class=\"dataframe\">\n",
       "  <thead>\n",
       "    <tr style=\"text-align: right;\">\n",
       "      <th></th>\n",
       "      <th>id</th>\n",
       "      <th>genero</th>\n",
       "      <th>antigo</th>\n",
       "      <th>parceiro</th>\n",
       "      <th>dependentes</th>\n",
       "      <th>posse</th>\n",
       "      <th>servico_telefone</th>\n",
       "      <th>linhas_multiplas</th>\n",
       "      <th>servico_internet</th>\n",
       "      <th>seguranca_online</th>\n",
       "      <th>...</th>\n",
       "      <th>protecao_dispositivo</th>\n",
       "      <th>suporte_tecnico</th>\n",
       "      <th>streaming_tv</th>\n",
       "      <th>streaming_video</th>\n",
       "      <th>contrato</th>\n",
       "      <th>faturamento_sem_papel</th>\n",
       "      <th>metodo_pagamento</th>\n",
       "      <th>mensalidade</th>\n",
       "      <th>custos_totais</th>\n",
       "      <th>churn</th>\n",
       "    </tr>\n",
       "  </thead>\n",
       "  <tbody>\n",
       "    <tr>\n",
       "      <th>0</th>\n",
       "      <td>7590-VHVEG</td>\n",
       "      <td>Female</td>\n",
       "      <td>0</td>\n",
       "      <td>Yes</td>\n",
       "      <td>No</td>\n",
       "      <td>1</td>\n",
       "      <td>No</td>\n",
       "      <td>No phone service</td>\n",
       "      <td>DSL</td>\n",
       "      <td>No</td>\n",
       "      <td>...</td>\n",
       "      <td>No</td>\n",
       "      <td>No</td>\n",
       "      <td>No</td>\n",
       "      <td>No</td>\n",
       "      <td>Month-to-month</td>\n",
       "      <td>Yes</td>\n",
       "      <td>Electronic check</td>\n",
       "      <td>29.85</td>\n",
       "      <td>29.85</td>\n",
       "      <td>No</td>\n",
       "    </tr>\n",
       "    <tr>\n",
       "      <th>1</th>\n",
       "      <td>5575-GNVDE</td>\n",
       "      <td>Male</td>\n",
       "      <td>0</td>\n",
       "      <td>No</td>\n",
       "      <td>No</td>\n",
       "      <td>34</td>\n",
       "      <td>Yes</td>\n",
       "      <td>No</td>\n",
       "      <td>DSL</td>\n",
       "      <td>Yes</td>\n",
       "      <td>...</td>\n",
       "      <td>Yes</td>\n",
       "      <td>No</td>\n",
       "      <td>No</td>\n",
       "      <td>No</td>\n",
       "      <td>One year</td>\n",
       "      <td>No</td>\n",
       "      <td>Mailed check</td>\n",
       "      <td>56.95</td>\n",
       "      <td>1889.5</td>\n",
       "      <td>No</td>\n",
       "    </tr>\n",
       "    <tr>\n",
       "      <th>2</th>\n",
       "      <td>3668-QPYBK</td>\n",
       "      <td>Male</td>\n",
       "      <td>0</td>\n",
       "      <td>No</td>\n",
       "      <td>No</td>\n",
       "      <td>2</td>\n",
       "      <td>Yes</td>\n",
       "      <td>No</td>\n",
       "      <td>DSL</td>\n",
       "      <td>Yes</td>\n",
       "      <td>...</td>\n",
       "      <td>No</td>\n",
       "      <td>No</td>\n",
       "      <td>No</td>\n",
       "      <td>No</td>\n",
       "      <td>Month-to-month</td>\n",
       "      <td>Yes</td>\n",
       "      <td>Mailed check</td>\n",
       "      <td>53.85</td>\n",
       "      <td>108.15</td>\n",
       "      <td>Yes</td>\n",
       "    </tr>\n",
       "    <tr>\n",
       "      <th>3</th>\n",
       "      <td>7795-CFOCW</td>\n",
       "      <td>Male</td>\n",
       "      <td>0</td>\n",
       "      <td>No</td>\n",
       "      <td>No</td>\n",
       "      <td>45</td>\n",
       "      <td>No</td>\n",
       "      <td>No phone service</td>\n",
       "      <td>DSL</td>\n",
       "      <td>Yes</td>\n",
       "      <td>...</td>\n",
       "      <td>Yes</td>\n",
       "      <td>Yes</td>\n",
       "      <td>No</td>\n",
       "      <td>No</td>\n",
       "      <td>One year</td>\n",
       "      <td>No</td>\n",
       "      <td>Bank transfer (automatic)</td>\n",
       "      <td>42.30</td>\n",
       "      <td>1840.75</td>\n",
       "      <td>No</td>\n",
       "    </tr>\n",
       "    <tr>\n",
       "      <th>4</th>\n",
       "      <td>9237-HQITU</td>\n",
       "      <td>Female</td>\n",
       "      <td>0</td>\n",
       "      <td>No</td>\n",
       "      <td>No</td>\n",
       "      <td>2</td>\n",
       "      <td>Yes</td>\n",
       "      <td>No</td>\n",
       "      <td>Fiber optic</td>\n",
       "      <td>No</td>\n",
       "      <td>...</td>\n",
       "      <td>No</td>\n",
       "      <td>No</td>\n",
       "      <td>No</td>\n",
       "      <td>No</td>\n",
       "      <td>Month-to-month</td>\n",
       "      <td>Yes</td>\n",
       "      <td>Electronic check</td>\n",
       "      <td>70.70</td>\n",
       "      <td>151.65</td>\n",
       "      <td>Yes</td>\n",
       "    </tr>\n",
       "  </tbody>\n",
       "</table>\n",
       "<p>5 rows × 21 columns</p>\n",
       "</div>"
      ],
      "text/plain": [
       "           id  genero  antigo parceiro dependentes  posse servico_telefone  \\\n",
       "0  7590-VHVEG  Female       0      Yes          No      1               No   \n",
       "1  5575-GNVDE    Male       0       No          No     34              Yes   \n",
       "2  3668-QPYBK    Male       0       No          No      2              Yes   \n",
       "3  7795-CFOCW    Male       0       No          No     45               No   \n",
       "4  9237-HQITU  Female       0       No          No      2              Yes   \n",
       "\n",
       "   linhas_multiplas servico_internet seguranca_online  ...  \\\n",
       "0  No phone service              DSL               No  ...   \n",
       "1                No              DSL              Yes  ...   \n",
       "2                No              DSL              Yes  ...   \n",
       "3  No phone service              DSL              Yes  ...   \n",
       "4                No      Fiber optic               No  ...   \n",
       "\n",
       "  protecao_dispositivo suporte_tecnico streaming_tv streaming_video  \\\n",
       "0                   No              No           No              No   \n",
       "1                  Yes              No           No              No   \n",
       "2                   No              No           No              No   \n",
       "3                  Yes             Yes           No              No   \n",
       "4                   No              No           No              No   \n",
       "\n",
       "         contrato faturamento_sem_papel           metodo_pagamento  \\\n",
       "0  Month-to-month                   Yes           Electronic check   \n",
       "1        One year                    No               Mailed check   \n",
       "2  Month-to-month                   Yes               Mailed check   \n",
       "3        One year                    No  Bank transfer (automatic)   \n",
       "4  Month-to-month                   Yes           Electronic check   \n",
       "\n",
       "  mensalidade  custos_totais churn  \n",
       "0       29.85          29.85    No  \n",
       "1       56.95         1889.5    No  \n",
       "2       53.85         108.15   Yes  \n",
       "3       42.30        1840.75    No  \n",
       "4       70.70         151.65   Yes  \n",
       "\n",
       "[5 rows x 21 columns]"
      ]
     },
     "execution_count": 6,
     "metadata": {},
     "output_type": "execute_result"
    }
   ],
   "source": [
    "df1.head()"
   ]
  },
  {
   "cell_type": "markdown",
   "id": "ce6031e0",
   "metadata": {},
   "source": [
    "## 1.1. Dimensão dos dados"
   ]
  },
  {
   "cell_type": "code",
   "execution_count": 7,
   "id": "b248e8a6",
   "metadata": {},
   "outputs": [
    {
     "name": "stdout",
     "output_type": "stream",
     "text": [
      "Numero de linhas: 7043\n",
      "Numero de colunas: 21\n"
     ]
    }
   ],
   "source": [
    "print ('Numero de linhas: {}'.format(df1.shape[0]))\n",
    "print ('Numero de colunas: {}'.format(df1.shape[1]))"
   ]
  },
  {
   "cell_type": "markdown",
   "id": "8dc573cc",
   "metadata": {},
   "source": [
    "## 1.2. Tipos de dados"
   ]
  },
  {
   "cell_type": "code",
   "execution_count": 8,
   "id": "2b70d881",
   "metadata": {},
   "outputs": [
    {
     "data": {
      "text/plain": [
       "id                        object\n",
       "genero                    object\n",
       "antigo                     int64\n",
       "parceiro                  object\n",
       "dependentes               object\n",
       "posse                      int64\n",
       "servico_telefone          object\n",
       "linhas_multiplas          object\n",
       "servico_internet          object\n",
       "seguranca_online          object\n",
       "backup_online             object\n",
       "protecao_dispositivo      object\n",
       "suporte_tecnico           object\n",
       "streaming_tv              object\n",
       "streaming_video           object\n",
       "contrato                  object\n",
       "faturamento_sem_papel     object\n",
       "metodo_pagamento          object\n",
       "mensalidade              float64\n",
       "custos_totais             object\n",
       "churn                     object\n",
       "dtype: object"
      ]
     },
     "execution_count": 8,
     "metadata": {},
     "output_type": "execute_result"
    }
   ],
   "source": [
    "df1.dtypes"
   ]
  },
  {
   "cell_type": "code",
   "execution_count": 9,
   "id": "8fca43bc",
   "metadata": {},
   "outputs": [],
   "source": [
    "df1[\"custos_totais\"] = df1[\"custos_totais\"].apply(converter_str_float)\n"
   ]
  },
  {
   "cell_type": "markdown",
   "id": "5e3f2991",
   "metadata": {},
   "source": [
    "## 1.3. Check NA"
   ]
  },
  {
   "cell_type": "code",
   "execution_count": 10,
   "id": "4a1aa920",
   "metadata": {},
   "outputs": [
    {
     "data": {
      "text/plain": [
       "id                        0\n",
       "genero                    0\n",
       "antigo                    0\n",
       "parceiro                  0\n",
       "dependentes               0\n",
       "posse                     0\n",
       "servico_telefone          0\n",
       "linhas_multiplas          0\n",
       "servico_internet          0\n",
       "seguranca_online          0\n",
       "backup_online             0\n",
       "protecao_dispositivo      0\n",
       "suporte_tecnico           0\n",
       "streaming_tv              0\n",
       "streaming_video           0\n",
       "contrato                  0\n",
       "faturamento_sem_papel     0\n",
       "metodo_pagamento          0\n",
       "mensalidade               0\n",
       "custos_totais            11\n",
       "churn                     0\n",
       "dtype: int64"
      ]
     },
     "execution_count": 10,
     "metadata": {},
     "output_type": "execute_result"
    }
   ],
   "source": [
    "df1.isna().sum()"
   ]
  },
  {
   "cell_type": "markdown",
   "id": "0aeb5875",
   "metadata": {},
   "source": [
    "## 1.4. Descrição Estatística"
   ]
  },
  {
   "cell_type": "code",
   "execution_count": 11,
   "id": "e879b70a",
   "metadata": {},
   "outputs": [],
   "source": [
    "num_attributes = df1.select_dtypes(include = ['int64', 'float64'])\n",
    "\n",
    "cat_attributes = df1.select_dtypes(exclude = ['int64', 'float64'])"
   ]
  },
  {
   "cell_type": "code",
   "execution_count": 12,
   "id": "4a6fc57e",
   "metadata": {},
   "outputs": [
    {
     "data": {
      "text/plain": [
       "antigo              2\n",
       "posse              73\n",
       "mensalidade      1585\n",
       "custos_totais    6530\n",
       "dtype: int64"
      ]
     },
     "execution_count": 12,
     "metadata": {},
     "output_type": "execute_result"
    }
   ],
   "source": [
    "num_attributes.nunique()"
   ]
  },
  {
   "cell_type": "code",
   "execution_count": 13,
   "id": "dc0e4598",
   "metadata": {},
   "outputs": [
    {
     "data": {
      "text/plain": [
       "id                       7043\n",
       "genero                      2\n",
       "parceiro                    2\n",
       "dependentes                 2\n",
       "servico_telefone            2\n",
       "linhas_multiplas            3\n",
       "servico_internet            3\n",
       "seguranca_online            3\n",
       "backup_online               3\n",
       "protecao_dispositivo        3\n",
       "suporte_tecnico             3\n",
       "streaming_tv                3\n",
       "streaming_video             3\n",
       "contrato                    3\n",
       "faturamento_sem_papel       2\n",
       "metodo_pagamento            4\n",
       "churn                       2\n",
       "dtype: int64"
      ]
     },
     "execution_count": 13,
     "metadata": {},
     "output_type": "execute_result"
    }
   ],
   "source": [
    "cat_attributes.nunique()"
   ]
  },
  {
   "cell_type": "code",
   "execution_count": 14,
   "id": "cb573eca",
   "metadata": {},
   "outputs": [
    {
     "data": {
      "text/html": [
       "<div>\n",
       "<style scoped>\n",
       "    .dataframe tbody tr th:only-of-type {\n",
       "        vertical-align: middle;\n",
       "    }\n",
       "\n",
       "    .dataframe tbody tr th {\n",
       "        vertical-align: top;\n",
       "    }\n",
       "\n",
       "    .dataframe thead th {\n",
       "        text-align: right;\n",
       "    }\n",
       "</style>\n",
       "<table border=\"1\" class=\"dataframe\">\n",
       "  <thead>\n",
       "    <tr style=\"text-align: right;\">\n",
       "      <th></th>\n",
       "      <th>antigo</th>\n",
       "      <th>posse</th>\n",
       "      <th>mensalidade</th>\n",
       "      <th>custos_totais</th>\n",
       "    </tr>\n",
       "  </thead>\n",
       "  <tbody>\n",
       "    <tr>\n",
       "      <th>count</th>\n",
       "      <td>7043.000000</td>\n",
       "      <td>7043.000000</td>\n",
       "      <td>7043.000000</td>\n",
       "      <td>7032.000000</td>\n",
       "    </tr>\n",
       "    <tr>\n",
       "      <th>mean</th>\n",
       "      <td>0.162147</td>\n",
       "      <td>32.371149</td>\n",
       "      <td>64.761692</td>\n",
       "      <td>2283.300441</td>\n",
       "    </tr>\n",
       "    <tr>\n",
       "      <th>std</th>\n",
       "      <td>0.368612</td>\n",
       "      <td>24.559481</td>\n",
       "      <td>30.090047</td>\n",
       "      <td>2266.771362</td>\n",
       "    </tr>\n",
       "    <tr>\n",
       "      <th>min</th>\n",
       "      <td>0.000000</td>\n",
       "      <td>0.000000</td>\n",
       "      <td>18.250000</td>\n",
       "      <td>18.800000</td>\n",
       "    </tr>\n",
       "    <tr>\n",
       "      <th>25%</th>\n",
       "      <td>0.000000</td>\n",
       "      <td>9.000000</td>\n",
       "      <td>35.500000</td>\n",
       "      <td>401.450000</td>\n",
       "    </tr>\n",
       "    <tr>\n",
       "      <th>50%</th>\n",
       "      <td>0.000000</td>\n",
       "      <td>29.000000</td>\n",
       "      <td>70.350000</td>\n",
       "      <td>1397.475000</td>\n",
       "    </tr>\n",
       "    <tr>\n",
       "      <th>75%</th>\n",
       "      <td>0.000000</td>\n",
       "      <td>55.000000</td>\n",
       "      <td>89.850000</td>\n",
       "      <td>3794.737500</td>\n",
       "    </tr>\n",
       "    <tr>\n",
       "      <th>max</th>\n",
       "      <td>1.000000</td>\n",
       "      <td>72.000000</td>\n",
       "      <td>118.750000</td>\n",
       "      <td>8684.800000</td>\n",
       "    </tr>\n",
       "  </tbody>\n",
       "</table>\n",
       "</div>"
      ],
      "text/plain": [
       "            antigo        posse  mensalidade  custos_totais\n",
       "count  7043.000000  7043.000000  7043.000000    7032.000000\n",
       "mean      0.162147    32.371149    64.761692    2283.300441\n",
       "std       0.368612    24.559481    30.090047    2266.771362\n",
       "min       0.000000     0.000000    18.250000      18.800000\n",
       "25%       0.000000     9.000000    35.500000     401.450000\n",
       "50%       0.000000    29.000000    70.350000    1397.475000\n",
       "75%       0.000000    55.000000    89.850000    3794.737500\n",
       "max       1.000000    72.000000   118.750000    8684.800000"
      ]
     },
     "execution_count": 14,
     "metadata": {},
     "output_type": "execute_result"
    }
   ],
   "source": [
    "df1.describe()"
   ]
  },
  {
   "cell_type": "markdown",
   "id": "09de0a27",
   "metadata": {},
   "source": [
    "# 2.0 FEATURE ENGINEERING"
   ]
  },
  {
   "cell_type": "code",
   "execution_count": 15,
   "id": "7402fb6d",
   "metadata": {},
   "outputs": [],
   "source": [
    "df2 = df1.copy()"
   ]
  },
  {
   "cell_type": "code",
   "execution_count": 16,
   "id": "7af43fd0",
   "metadata": {},
   "outputs": [],
   "source": [
    "novos_valores = {'Yes':1, 'No':0}\n",
    "df2['churn'] = df2['churn'].map(novos_valores)\n",
    "df2['dependentes'] = df2['dependentes'].map(novos_valores)\n",
    "df2['suporte_tecnico'] = df2['suporte_tecnico'].map(novos_valores)"
   ]
  },
  {
   "cell_type": "code",
   "execution_count": 17,
   "id": "0dcb345c",
   "metadata": {},
   "outputs": [
    {
     "data": {
      "text/html": [
       "<div>\n",
       "<style scoped>\n",
       "    .dataframe tbody tr th:only-of-type {\n",
       "        vertical-align: middle;\n",
       "    }\n",
       "\n",
       "    .dataframe tbody tr th {\n",
       "        vertical-align: top;\n",
       "    }\n",
       "\n",
       "    .dataframe thead th {\n",
       "        text-align: right;\n",
       "    }\n",
       "</style>\n",
       "<table border=\"1\" class=\"dataframe\">\n",
       "  <thead>\n",
       "    <tr style=\"text-align: right;\">\n",
       "      <th></th>\n",
       "      <th>id</th>\n",
       "      <th>genero</th>\n",
       "      <th>antigo</th>\n",
       "      <th>parceiro</th>\n",
       "      <th>dependentes</th>\n",
       "      <th>posse</th>\n",
       "      <th>servico_telefone</th>\n",
       "      <th>linhas_multiplas</th>\n",
       "      <th>servico_internet</th>\n",
       "      <th>seguranca_online</th>\n",
       "      <th>...</th>\n",
       "      <th>protecao_dispositivo</th>\n",
       "      <th>suporte_tecnico</th>\n",
       "      <th>streaming_tv</th>\n",
       "      <th>streaming_video</th>\n",
       "      <th>contrato</th>\n",
       "      <th>faturamento_sem_papel</th>\n",
       "      <th>metodo_pagamento</th>\n",
       "      <th>mensalidade</th>\n",
       "      <th>custos_totais</th>\n",
       "      <th>churn</th>\n",
       "    </tr>\n",
       "  </thead>\n",
       "  <tbody>\n",
       "    <tr>\n",
       "      <th>0</th>\n",
       "      <td>7590-VHVEG</td>\n",
       "      <td>Female</td>\n",
       "      <td>0</td>\n",
       "      <td>Yes</td>\n",
       "      <td>0</td>\n",
       "      <td>1</td>\n",
       "      <td>No</td>\n",
       "      <td>No phone service</td>\n",
       "      <td>DSL</td>\n",
       "      <td>No</td>\n",
       "      <td>...</td>\n",
       "      <td>No</td>\n",
       "      <td>0.0</td>\n",
       "      <td>No</td>\n",
       "      <td>No</td>\n",
       "      <td>Month-to-month</td>\n",
       "      <td>Yes</td>\n",
       "      <td>Electronic check</td>\n",
       "      <td>29.85</td>\n",
       "      <td>29.85</td>\n",
       "      <td>0</td>\n",
       "    </tr>\n",
       "    <tr>\n",
       "      <th>1</th>\n",
       "      <td>5575-GNVDE</td>\n",
       "      <td>Male</td>\n",
       "      <td>0</td>\n",
       "      <td>No</td>\n",
       "      <td>0</td>\n",
       "      <td>34</td>\n",
       "      <td>Yes</td>\n",
       "      <td>No</td>\n",
       "      <td>DSL</td>\n",
       "      <td>Yes</td>\n",
       "      <td>...</td>\n",
       "      <td>Yes</td>\n",
       "      <td>0.0</td>\n",
       "      <td>No</td>\n",
       "      <td>No</td>\n",
       "      <td>One year</td>\n",
       "      <td>No</td>\n",
       "      <td>Mailed check</td>\n",
       "      <td>56.95</td>\n",
       "      <td>1889.50</td>\n",
       "      <td>0</td>\n",
       "    </tr>\n",
       "    <tr>\n",
       "      <th>2</th>\n",
       "      <td>3668-QPYBK</td>\n",
       "      <td>Male</td>\n",
       "      <td>0</td>\n",
       "      <td>No</td>\n",
       "      <td>0</td>\n",
       "      <td>2</td>\n",
       "      <td>Yes</td>\n",
       "      <td>No</td>\n",
       "      <td>DSL</td>\n",
       "      <td>Yes</td>\n",
       "      <td>...</td>\n",
       "      <td>No</td>\n",
       "      <td>0.0</td>\n",
       "      <td>No</td>\n",
       "      <td>No</td>\n",
       "      <td>Month-to-month</td>\n",
       "      <td>Yes</td>\n",
       "      <td>Mailed check</td>\n",
       "      <td>53.85</td>\n",
       "      <td>108.15</td>\n",
       "      <td>1</td>\n",
       "    </tr>\n",
       "    <tr>\n",
       "      <th>3</th>\n",
       "      <td>7795-CFOCW</td>\n",
       "      <td>Male</td>\n",
       "      <td>0</td>\n",
       "      <td>No</td>\n",
       "      <td>0</td>\n",
       "      <td>45</td>\n",
       "      <td>No</td>\n",
       "      <td>No phone service</td>\n",
       "      <td>DSL</td>\n",
       "      <td>Yes</td>\n",
       "      <td>...</td>\n",
       "      <td>Yes</td>\n",
       "      <td>1.0</td>\n",
       "      <td>No</td>\n",
       "      <td>No</td>\n",
       "      <td>One year</td>\n",
       "      <td>No</td>\n",
       "      <td>Bank transfer (automatic)</td>\n",
       "      <td>42.30</td>\n",
       "      <td>1840.75</td>\n",
       "      <td>0</td>\n",
       "    </tr>\n",
       "    <tr>\n",
       "      <th>4</th>\n",
       "      <td>9237-HQITU</td>\n",
       "      <td>Female</td>\n",
       "      <td>0</td>\n",
       "      <td>No</td>\n",
       "      <td>0</td>\n",
       "      <td>2</td>\n",
       "      <td>Yes</td>\n",
       "      <td>No</td>\n",
       "      <td>Fiber optic</td>\n",
       "      <td>No</td>\n",
       "      <td>...</td>\n",
       "      <td>No</td>\n",
       "      <td>0.0</td>\n",
       "      <td>No</td>\n",
       "      <td>No</td>\n",
       "      <td>Month-to-month</td>\n",
       "      <td>Yes</td>\n",
       "      <td>Electronic check</td>\n",
       "      <td>70.70</td>\n",
       "      <td>151.65</td>\n",
       "      <td>1</td>\n",
       "    </tr>\n",
       "  </tbody>\n",
       "</table>\n",
       "<p>5 rows × 21 columns</p>\n",
       "</div>"
      ],
      "text/plain": [
       "           id  genero  antigo parceiro  dependentes  posse servico_telefone  \\\n",
       "0  7590-VHVEG  Female       0      Yes            0      1               No   \n",
       "1  5575-GNVDE    Male       0       No            0     34              Yes   \n",
       "2  3668-QPYBK    Male       0       No            0      2              Yes   \n",
       "3  7795-CFOCW    Male       0       No            0     45               No   \n",
       "4  9237-HQITU  Female       0       No            0      2              Yes   \n",
       "\n",
       "   linhas_multiplas servico_internet seguranca_online  ...  \\\n",
       "0  No phone service              DSL               No  ...   \n",
       "1                No              DSL              Yes  ...   \n",
       "2                No              DSL              Yes  ...   \n",
       "3  No phone service              DSL              Yes  ...   \n",
       "4                No      Fiber optic               No  ...   \n",
       "\n",
       "  protecao_dispositivo suporte_tecnico  streaming_tv streaming_video  \\\n",
       "0                   No             0.0            No              No   \n",
       "1                  Yes             0.0            No              No   \n",
       "2                   No             0.0            No              No   \n",
       "3                  Yes             1.0            No              No   \n",
       "4                   No             0.0            No              No   \n",
       "\n",
       "         contrato faturamento_sem_papel           metodo_pagamento  \\\n",
       "0  Month-to-month                   Yes           Electronic check   \n",
       "1        One year                    No               Mailed check   \n",
       "2  Month-to-month                   Yes               Mailed check   \n",
       "3        One year                    No  Bank transfer (automatic)   \n",
       "4  Month-to-month                   Yes           Electronic check   \n",
       "\n",
       "  mensalidade  custos_totais  churn  \n",
       "0       29.85          29.85      0  \n",
       "1       56.95        1889.50      0  \n",
       "2       53.85         108.15      1  \n",
       "3       42.30        1840.75      0  \n",
       "4       70.70         151.65      1  \n",
       "\n",
       "[5 rows x 21 columns]"
      ]
     },
     "execution_count": 17,
     "metadata": {},
     "output_type": "execute_result"
    }
   ],
   "source": [
    "df2.head()"
   ]
  },
  {
   "cell_type": "markdown",
   "id": "f2ed4ca3",
   "metadata": {},
   "source": [
    "# 3.0 FILTRAGEM DE VARIAVEIS"
   ]
  },
  {
   "cell_type": "code",
   "execution_count": 18,
   "id": "5881b7c1",
   "metadata": {},
   "outputs": [],
   "source": [
    "df3 = df2.copy()"
   ]
  },
  {
   "cell_type": "code",
   "execution_count": 19,
   "id": "1e902e85",
   "metadata": {},
   "outputs": [],
   "source": [
    "df3.drop(\"id\", axis=1, inplace=True)"
   ]
  },
  {
   "cell_type": "code",
   "execution_count": 20,
   "id": "ea335cb9",
   "metadata": {},
   "outputs": [
    {
     "data": {
      "text/html": [
       "<div>\n",
       "<style scoped>\n",
       "    .dataframe tbody tr th:only-of-type {\n",
       "        vertical-align: middle;\n",
       "    }\n",
       "\n",
       "    .dataframe tbody tr th {\n",
       "        vertical-align: top;\n",
       "    }\n",
       "\n",
       "    .dataframe thead th {\n",
       "        text-align: right;\n",
       "    }\n",
       "</style>\n",
       "<table border=\"1\" class=\"dataframe\">\n",
       "  <thead>\n",
       "    <tr style=\"text-align: right;\">\n",
       "      <th></th>\n",
       "      <th>genero</th>\n",
       "      <th>antigo</th>\n",
       "      <th>parceiro</th>\n",
       "      <th>dependentes</th>\n",
       "      <th>posse</th>\n",
       "      <th>servico_telefone</th>\n",
       "      <th>linhas_multiplas</th>\n",
       "      <th>servico_internet</th>\n",
       "      <th>seguranca_online</th>\n",
       "      <th>backup_online</th>\n",
       "      <th>protecao_dispositivo</th>\n",
       "      <th>suporte_tecnico</th>\n",
       "      <th>streaming_tv</th>\n",
       "      <th>streaming_video</th>\n",
       "      <th>contrato</th>\n",
       "      <th>faturamento_sem_papel</th>\n",
       "      <th>metodo_pagamento</th>\n",
       "      <th>mensalidade</th>\n",
       "      <th>custos_totais</th>\n",
       "      <th>churn</th>\n",
       "    </tr>\n",
       "  </thead>\n",
       "  <tbody>\n",
       "    <tr>\n",
       "      <th>0</th>\n",
       "      <td>Female</td>\n",
       "      <td>0</td>\n",
       "      <td>Yes</td>\n",
       "      <td>0</td>\n",
       "      <td>1</td>\n",
       "      <td>No</td>\n",
       "      <td>No phone service</td>\n",
       "      <td>DSL</td>\n",
       "      <td>No</td>\n",
       "      <td>Yes</td>\n",
       "      <td>No</td>\n",
       "      <td>0.0</td>\n",
       "      <td>No</td>\n",
       "      <td>No</td>\n",
       "      <td>Month-to-month</td>\n",
       "      <td>Yes</td>\n",
       "      <td>Electronic check</td>\n",
       "      <td>29.85</td>\n",
       "      <td>29.85</td>\n",
       "      <td>0</td>\n",
       "    </tr>\n",
       "    <tr>\n",
       "      <th>1</th>\n",
       "      <td>Male</td>\n",
       "      <td>0</td>\n",
       "      <td>No</td>\n",
       "      <td>0</td>\n",
       "      <td>34</td>\n",
       "      <td>Yes</td>\n",
       "      <td>No</td>\n",
       "      <td>DSL</td>\n",
       "      <td>Yes</td>\n",
       "      <td>No</td>\n",
       "      <td>Yes</td>\n",
       "      <td>0.0</td>\n",
       "      <td>No</td>\n",
       "      <td>No</td>\n",
       "      <td>One year</td>\n",
       "      <td>No</td>\n",
       "      <td>Mailed check</td>\n",
       "      <td>56.95</td>\n",
       "      <td>1889.50</td>\n",
       "      <td>0</td>\n",
       "    </tr>\n",
       "    <tr>\n",
       "      <th>2</th>\n",
       "      <td>Male</td>\n",
       "      <td>0</td>\n",
       "      <td>No</td>\n",
       "      <td>0</td>\n",
       "      <td>2</td>\n",
       "      <td>Yes</td>\n",
       "      <td>No</td>\n",
       "      <td>DSL</td>\n",
       "      <td>Yes</td>\n",
       "      <td>Yes</td>\n",
       "      <td>No</td>\n",
       "      <td>0.0</td>\n",
       "      <td>No</td>\n",
       "      <td>No</td>\n",
       "      <td>Month-to-month</td>\n",
       "      <td>Yes</td>\n",
       "      <td>Mailed check</td>\n",
       "      <td>53.85</td>\n",
       "      <td>108.15</td>\n",
       "      <td>1</td>\n",
       "    </tr>\n",
       "    <tr>\n",
       "      <th>3</th>\n",
       "      <td>Male</td>\n",
       "      <td>0</td>\n",
       "      <td>No</td>\n",
       "      <td>0</td>\n",
       "      <td>45</td>\n",
       "      <td>No</td>\n",
       "      <td>No phone service</td>\n",
       "      <td>DSL</td>\n",
       "      <td>Yes</td>\n",
       "      <td>No</td>\n",
       "      <td>Yes</td>\n",
       "      <td>1.0</td>\n",
       "      <td>No</td>\n",
       "      <td>No</td>\n",
       "      <td>One year</td>\n",
       "      <td>No</td>\n",
       "      <td>Bank transfer (automatic)</td>\n",
       "      <td>42.30</td>\n",
       "      <td>1840.75</td>\n",
       "      <td>0</td>\n",
       "    </tr>\n",
       "    <tr>\n",
       "      <th>4</th>\n",
       "      <td>Female</td>\n",
       "      <td>0</td>\n",
       "      <td>No</td>\n",
       "      <td>0</td>\n",
       "      <td>2</td>\n",
       "      <td>Yes</td>\n",
       "      <td>No</td>\n",
       "      <td>Fiber optic</td>\n",
       "      <td>No</td>\n",
       "      <td>No</td>\n",
       "      <td>No</td>\n",
       "      <td>0.0</td>\n",
       "      <td>No</td>\n",
       "      <td>No</td>\n",
       "      <td>Month-to-month</td>\n",
       "      <td>Yes</td>\n",
       "      <td>Electronic check</td>\n",
       "      <td>70.70</td>\n",
       "      <td>151.65</td>\n",
       "      <td>1</td>\n",
       "    </tr>\n",
       "  </tbody>\n",
       "</table>\n",
       "</div>"
      ],
      "text/plain": [
       "   genero  antigo parceiro  dependentes  posse servico_telefone  \\\n",
       "0  Female       0      Yes            0      1               No   \n",
       "1    Male       0       No            0     34              Yes   \n",
       "2    Male       0       No            0      2              Yes   \n",
       "3    Male       0       No            0     45               No   \n",
       "4  Female       0       No            0      2              Yes   \n",
       "\n",
       "   linhas_multiplas servico_internet seguranca_online backup_online  \\\n",
       "0  No phone service              DSL               No           Yes   \n",
       "1                No              DSL              Yes            No   \n",
       "2                No              DSL              Yes           Yes   \n",
       "3  No phone service              DSL              Yes            No   \n",
       "4                No      Fiber optic               No            No   \n",
       "\n",
       "  protecao_dispositivo  suporte_tecnico streaming_tv streaming_video  \\\n",
       "0                   No              0.0           No              No   \n",
       "1                  Yes              0.0           No              No   \n",
       "2                   No              0.0           No              No   \n",
       "3                  Yes              1.0           No              No   \n",
       "4                   No              0.0           No              No   \n",
       "\n",
       "         contrato faturamento_sem_papel           metodo_pagamento  \\\n",
       "0  Month-to-month                   Yes           Electronic check   \n",
       "1        One year                    No               Mailed check   \n",
       "2  Month-to-month                   Yes               Mailed check   \n",
       "3        One year                    No  Bank transfer (automatic)   \n",
       "4  Month-to-month                   Yes           Electronic check   \n",
       "\n",
       "   mensalidade  custos_totais  churn  \n",
       "0        29.85          29.85      0  \n",
       "1        56.95        1889.50      0  \n",
       "2        53.85         108.15      1  \n",
       "3        42.30        1840.75      0  \n",
       "4        70.70         151.65      1  "
      ]
     },
     "execution_count": 20,
     "metadata": {},
     "output_type": "execute_result"
    }
   ],
   "source": [
    "df3.head()"
   ]
  },
  {
   "cell_type": "markdown",
   "id": "95cb451c",
   "metadata": {},
   "source": [
    "# 4.0 Análise Exploratória de Dados (EDA)"
   ]
  },
  {
   "cell_type": "code",
   "execution_count": 21,
   "id": "9dec1037",
   "metadata": {},
   "outputs": [],
   "source": [
    "df4 = df3.copy()"
   ]
  },
  {
   "cell_type": "markdown",
   "id": "cb1e26cc",
   "metadata": {},
   "source": [
    "## 4.1. Análise Univariada"
   ]
  },
  {
   "cell_type": "markdown",
   "id": "a8b270c8",
   "metadata": {},
   "source": [
    "### 4.1.1. Variável Resposta"
   ]
  },
  {
   "cell_type": "code",
   "execution_count": 22,
   "id": "0c0b9e57",
   "metadata": {},
   "outputs": [
    {
     "data": {
      "image/png": "[encoded data removed]",
      "text/plain": [
       "<Figure size 432x288 with 1 Axes>"
      ]
     },
     "metadata": {
      "needs_background": "light"
     },
     "output_type": "display_data"
    }
   ],
   "source": [
    "sns.countplot(df4['churn']);"
   ]
  },
  {
   "cell_type": "markdown",
   "id": "c305995c",
   "metadata": {},
   "source": [
    "### 4.1.2. Variável Numérica"
   ]
  },
  {
   "cell_type": "code",
   "execution_count": 23,
   "id": "f88c65f6",
   "metadata": {},
   "outputs": [
    {
     "data": {
      "image/png": "[encoded data removed]",
      "text/plain": [
       "<Figure size 720x504 with 4 Axes>"
      ]
     },
     "metadata": {
      "needs_background": "light"
     },
     "output_type": "display_data"
    }
   ],
   "source": [
    "num_attributes.hist(bins=25, figsize=(10, 7));"
   ]
  },
  {
   "cell_type": "markdown",
   "id": "11af40bd",
   "metadata": {},
   "source": [
    "### 4.1.3. Variáveis Categóricas"
   ]
  },
  {
   "cell_type": "code",
   "execution_count": 24,
   "id": "5a228bcb",
   "metadata": {},
   "outputs": [
    {
     "data": {
      "text/plain": [
       "Index(['id', 'genero', 'parceiro', 'dependentes', 'servico_telefone',\n",
       "       'linhas_multiplas', 'servico_internet', 'seguranca_online',\n",
       "       'backup_online', 'protecao_dispositivo', 'suporte_tecnico',\n",
       "       'streaming_tv', 'streaming_video', 'contrato', 'faturamento_sem_papel',\n",
       "       'metodo_pagamento', 'churn'],\n",
       "      dtype='object')"
      ]
     },
     "execution_count": 24,
     "metadata": {},
     "output_type": "execute_result"
    }
   ],
   "source": [
    "cat_attributes.columns"
   ]
  },
  {
   "cell_type": "code",
   "execution_count": 25,
   "id": "73e36795",
   "metadata": {},
   "outputs": [
    {
     "data": {
      "image/png": "[encoded data removed]",
      "text/plain": [
       "<Figure size 1080x576 with 2 Axes>"
      ]
     },
     "metadata": {
      "needs_background": "light"
     },
     "output_type": "display_data"
    }
   ],
   "source": [
    "pylab.rcParams['figure.figsize'] = (15.0, 8.0)\n",
    "plt.subplot(1, 2, 1)\n",
    "sns.countplot(df4['servico_internet']);\n",
    "\n",
    "plt.subplot(1, 2, 2)\n",
    "sns.countplot(df4['genero']);"
   ]
  },
  {
   "cell_type": "markdown",
   "id": "c50f5e3b",
   "metadata": {},
   "source": [
    "## 4.2. Análise Bivariada"
   ]
  },
  {
   "cell_type": "code",
   "execution_count": 26,
   "id": "4cf041d2",
   "metadata": {},
   "outputs": [
    {
     "data": {
      "text/html": [
       "<div>\n",
       "<style scoped>\n",
       "    .dataframe tbody tr th:only-of-type {\n",
       "        vertical-align: middle;\n",
       "    }\n",
       "\n",
       "    .dataframe tbody tr th {\n",
       "        vertical-align: top;\n",
       "    }\n",
       "\n",
       "    .dataframe thead th {\n",
       "        text-align: right;\n",
       "    }\n",
       "</style>\n",
       "<table border=\"1\" class=\"dataframe\">\n",
       "  <thead>\n",
       "    <tr style=\"text-align: right;\">\n",
       "      <th></th>\n",
       "      <th>genero</th>\n",
       "      <th>antigo</th>\n",
       "      <th>parceiro</th>\n",
       "      <th>dependentes</th>\n",
       "      <th>posse</th>\n",
       "      <th>servico_telefone</th>\n",
       "      <th>linhas_multiplas</th>\n",
       "      <th>servico_internet</th>\n",
       "      <th>seguranca_online</th>\n",
       "      <th>backup_online</th>\n",
       "      <th>protecao_dispositivo</th>\n",
       "      <th>suporte_tecnico</th>\n",
       "      <th>streaming_tv</th>\n",
       "      <th>streaming_video</th>\n",
       "      <th>contrato</th>\n",
       "      <th>faturamento_sem_papel</th>\n",
       "      <th>metodo_pagamento</th>\n",
       "      <th>mensalidade</th>\n",
       "      <th>custos_totais</th>\n",
       "      <th>churn</th>\n",
       "    </tr>\n",
       "  </thead>\n",
       "  <tbody>\n",
       "    <tr>\n",
       "      <th>0</th>\n",
       "      <td>Female</td>\n",
       "      <td>0</td>\n",
       "      <td>Yes</td>\n",
       "      <td>0</td>\n",
       "      <td>1</td>\n",
       "      <td>No</td>\n",
       "      <td>No phone service</td>\n",
       "      <td>DSL</td>\n",
       "      <td>No</td>\n",
       "      <td>Yes</td>\n",
       "      <td>No</td>\n",
       "      <td>0.0</td>\n",
       "      <td>No</td>\n",
       "      <td>No</td>\n",
       "      <td>Month-to-month</td>\n",
       "      <td>Yes</td>\n",
       "      <td>Electronic check</td>\n",
       "      <td>29.85</td>\n",
       "      <td>29.85</td>\n",
       "      <td>0</td>\n",
       "    </tr>\n",
       "    <tr>\n",
       "      <th>1</th>\n",
       "      <td>Male</td>\n",
       "      <td>0</td>\n",
       "      <td>No</td>\n",
       "      <td>0</td>\n",
       "      <td>34</td>\n",
       "      <td>Yes</td>\n",
       "      <td>No</td>\n",
       "      <td>DSL</td>\n",
       "      <td>Yes</td>\n",
       "      <td>No</td>\n",
       "      <td>Yes</td>\n",
       "      <td>0.0</td>\n",
       "      <td>No</td>\n",
       "      <td>No</td>\n",
       "      <td>One year</td>\n",
       "      <td>No</td>\n",
       "      <td>Mailed check</td>\n",
       "      <td>56.95</td>\n",
       "      <td>1889.50</td>\n",
       "      <td>0</td>\n",
       "    </tr>\n",
       "  </tbody>\n",
       "</table>\n",
       "</div>"
      ],
      "text/plain": [
       "   genero  antigo parceiro  dependentes  posse servico_telefone  \\\n",
       "0  Female       0      Yes            0      1               No   \n",
       "1    Male       0       No            0     34              Yes   \n",
       "\n",
       "   linhas_multiplas servico_internet seguranca_online backup_online  \\\n",
       "0  No phone service              DSL               No           Yes   \n",
       "1                No              DSL              Yes            No   \n",
       "\n",
       "  protecao_dispositivo  suporte_tecnico streaming_tv streaming_video  \\\n",
       "0                   No              0.0           No              No   \n",
       "1                  Yes              0.0           No              No   \n",
       "\n",
       "         contrato faturamento_sem_papel  metodo_pagamento  mensalidade  \\\n",
       "0  Month-to-month                   Yes  Electronic check        29.85   \n",
       "1        One year                    No      Mailed check        56.95   \n",
       "\n",
       "   custos_totais  churn  \n",
       "0          29.85      0  \n",
       "1        1889.50      0  "
      ]
     },
     "execution_count": 26,
     "metadata": {},
     "output_type": "execute_result"
    }
   ],
   "source": [
    "df4.head(2)"
   ]
  },
  {
   "cell_type": "markdown",
   "id": "91726a5c",
   "metadata": {},
   "source": [
    "#### P1. Deveria haver mais churns entre os homens.\n",
    "**Inconclusivo,** a maioria de rotatividade é de clientes do sexo feminino"
   ]
  },
  {
   "cell_type": "code",
   "execution_count": 27,
   "id": "cfffe5ab",
   "metadata": {},
   "outputs": [
    {
     "data": {
      "image/png": "[encoded data removed]",
      "text/plain": [
       "<Figure size 1080x576 with 1 Axes>"
      ]
     },
     "metadata": {
      "needs_background": "light"
     },
     "output_type": "display_data"
    }
   ],
   "source": [
    "aux = df4[(df4['genero'] != '0') & (df4['churn'] > 0)]\n",
    "pylab.rcParams['figure.figsize'] = (15.0, 8.0)\n",
    "sns.barplot(x='genero', y='churn', data=df4 );"
   ]
  },
  {
   "cell_type": "markdown",
   "id": "12028819",
   "metadata": {},
   "source": [
    "#### P2. Clientes mais antigos deveriam ter menos churns.\n",
    "**Verdade,** é mais comum os clientes novos tender a rotatividade."
   ]
  },
  {
   "cell_type": "code",
   "execution_count": 28,
   "id": "03f2d63c",
   "metadata": {},
   "outputs": [
    {
     "data": {
      "image/png": "[encoded data removed]",
      "text/plain": [
       "<Figure size 1080x576 with 1 Axes>"
      ]
     },
     "metadata": {
      "needs_background": "light"
     },
     "output_type": "display_data"
    }
   ],
   "source": [
    "sns.barplot(x='churn', y='antigo', data=df4 );"
   ]
  },
  {
   "cell_type": "markdown",
   "id": "23102a72",
   "metadata": {},
   "source": [
    "#### P3. As mensalidades devem ser maior para quem utiliza streaming_video\n",
    "**Verdade,**, as mensalidades são maiores para utilizadores de streaming de vídeos"
   ]
  },
  {
   "cell_type": "code",
   "execution_count": 29,
   "id": "cd9c426e",
   "metadata": {},
   "outputs": [
    {
     "data": {
      "text/plain": [
       "<AxesSubplot:>"
      ]
     },
     "execution_count": 29,
     "metadata": {},
     "output_type": "execute_result"
    },
    {
     "data": {
      "image/png": "[encoded data removed]",
      "text/plain": [
       "<Figure size 1008x504 with 3 Axes>"
      ]
     },
     "metadata": {
      "needs_background": "light"
     },
     "output_type": "display_data"
    }
   ],
   "source": [
    "tamanho(14, 7)\n",
    "plt.subplot(2, 2, 1)\n",
    "sns.barplot(x='streaming_video', y='mensalidade', data=df4);\n",
    "\n",
    "plt.subplot(2, 2, 2)\n",
    "sns.boxplot(x='mensalidade', y='streaming_video', data=df4);\n",
    "\n",
    "plt.subplot( 2, 2, 3 ) "
   ]
  },
  {
   "cell_type": "code",
   "execution_count": 30,
   "id": "e6d7fefe",
   "metadata": {},
   "outputs": [],
   "source": [
    "#df4['streaming_video'].unique()\n",
    "\n",
    "#sns.kdeplot ( df4[df4['streaming_video'] == 'Yes']['mensalidade'], label = a, shade = True)\n",
    "#sns.kdeplot ( df4[df4['streaming_video'] == 'No']['mensalidade'], label = b, shade = True)\n",
    "#sns.kdeplot ( df4[df4['streaming_video'] == 'No internet service']['mensalidade'], label = c, shade = True)"
   ]
  },
  {
   "cell_type": "code",
   "execution_count": 31,
   "id": "e95a2bc8",
   "metadata": {},
   "outputs": [],
   "source": [
    "#sns.kdeplot ( df4[df4['streaming_video'] == 'Yes']['mensalidade'], label = 'a', shade = True)\n",
    "#sns.kdeplot ( df4[df4['streaming_video'] == 'No']['mensalidade'], label = 'b', shade = True)\n",
    "#sns.kdeplot ( df4[df4['streaming_video'] == 'No internet service']['mensalidade'], label = 'c', shade = True);"
   ]
  },
  {
   "cell_type": "markdown",
   "id": "50dfb0d7",
   "metadata": {},
   "source": [
    "#### P4. Quanto mais antigo o cliente for, menor deveria ser os custos totais do plano.\n",
    "**Verdade,** os custos abaixam conforme ao passar do tempo"
   ]
  },
  {
   "cell_type": "code",
   "execution_count": 32,
   "id": "3ffb1857",
   "metadata": {},
   "outputs": [
    {
     "data": {
      "image/png": "[encoded data removed]",
      "text/plain": [
       "<Figure size 1008x504 with 1 Axes>"
      ]
     },
     "metadata": {
      "needs_background": "light"
     },
     "output_type": "display_data"
    }
   ],
   "source": [
    "aux1 = df4[['antigo', 'custos_totais']].groupby('antigo').sum().reset_index()\n",
    "sns.barplot( x='antigo', y='custos_totais', data=aux1);"
   ]
  },
  {
   "cell_type": "markdown",
   "id": "cb4274dd",
   "metadata": {},
   "source": [
    "#### P5. Se tiver dependentes, a tendência é uma menor rotação.\n",
    "**Verdade,** quando não se tem dependentes, o churn é maior"
   ]
  },
  {
   "cell_type": "code",
   "execution_count": 33,
   "id": "2c6cde74",
   "metadata": {},
   "outputs": [
    {
     "data": {
      "image/png": "[encoded data removed]",
      "text/plain": [
       "<Figure size 1008x504 with 1 Axes>"
      ]
     },
     "metadata": {
      "needs_background": "light"
     },
     "output_type": "display_data"
    }
   ],
   "source": [
    "sns.barplot(x='churn', y='dependentes', data=df4);"
   ]
  },
  {
   "cell_type": "markdown",
   "id": "1ab9ad5a",
   "metadata": {},
   "source": [
    "#### P6. Se o plano do assinante possuir suporte técnico, a tendência é que o churn aconteça com menos frequência.\n",
    "**Verdade,** a rotatividade maior é para quem não possui suporte técnico no seu plano."
   ]
  },
  {
   "cell_type": "code",
   "execution_count": 34,
   "id": "29a1e32f",
   "metadata": {},
   "outputs": [
    {
     "data": {
      "image/png": "[encoded data removed]",
      "text/plain": [
       "<Figure size 1008x504 with 1 Axes>"
      ]
     },
     "metadata": {
      "needs_background": "light"
     },
     "output_type": "display_data"
    }
   ],
   "source": [
    "sns.barplot(x='churn', y='suporte_tecnico', data=df4);"
   ]
  },
  {
   "cell_type": "markdown",
   "id": "95f84f1e",
   "metadata": {},
   "source": [
    "#### P7. Se o plano do assinante possuir backup online, a tendência é que o churn aconteça com menos frequência."
   ]
  },
  {
   "cell_type": "code",
   "execution_count": 35,
   "id": "f545b894",
   "metadata": {},
   "outputs": [
    {
     "data": {
      "image/png": "[encoded data removed]",
      "text/plain": [
       "<Figure size 1008x504 with 1 Axes>"
      ]
     },
     "metadata": {
      "needs_background": "light"
     },
     "output_type": "display_data"
    }
   ],
   "source": [
    "sns.barplot(x='backup_online', y='churn', data=df4);"
   ]
  },
  {
   "cell_type": "markdown",
   "id": "b966ce68",
   "metadata": {},
   "source": [
    "## 4.3. Análise Multivariada"
   ]
  },
  {
   "cell_type": "markdown",
   "id": "e929b309",
   "metadata": {},
   "source": [
    "### 4.3.1. Atributos Numéricos"
   ]
  },
  {
   "cell_type": "code",
   "execution_count": 36,
   "id": "56e1033f",
   "metadata": {},
   "outputs": [
    {
     "data": {
      "image/png": "[encoded data removed]",
      "text/plain": [
       "<Figure size 1008x504 with 2 Axes>"
      ]
     },
     "metadata": {
      "needs_background": "light"
     },
     "output_type": "display_data"
    }
   ],
   "source": [
    "correlation = num_attributes.corr( method = 'pearson' )\n",
    "sns.heatmap( correlation, annot=True );"
   ]
  },
  {
   "cell_type": "markdown",
   "id": "766e0f28",
   "metadata": {},
   "source": [
    "# 5.0 PREPARAÇÃO DOS DADOS"
   ]
  },
  {
   "cell_type": "code",
   "execution_count": 37,
   "id": "b015b09e",
   "metadata": {},
   "outputs": [],
   "source": [
    "df5 = df4.copy()"
   ]
  },
  {
   "cell_type": "markdown",
   "id": "f9f64598",
   "metadata": {},
   "source": [
    "## 5.1. Encoding"
   ]
  },
  {
   "cell_type": "code",
   "execution_count": 38,
   "id": "8a87149a",
   "metadata": {},
   "outputs": [],
   "source": [
    "X_cat = cat_attributes[['genero', 'parceiro', 'servico_telefone', 'linhas_multiplas', 'seguranca_online',\n",
    "       'backup_online', 'protecao_dispositivo', 'suporte_tecnico', 'streaming_tv', 'streaming_video',\n",
    "        'contrato', 'faturamento_sem_papel', 'metodo_pagamento']]\n",
    "\n",
    "onn = OneHotEncoder()\n",
    "\n",
    "X_cat = onn.fit_transform(X_cat).toarray()\n",
    "\n",
    "X_cat = pd.DataFrame(X_cat)\n",
    "\n",
    "X_numerical = num_attributes[['antigo', 'posse', 'mensalidade']]\n",
    "\n",
    "df = pd.concat([X_numerical, X_cat], axis=1)"
   ]
  },
  {
   "cell_type": "code",
   "execution_count": 39,
   "id": "5a587648",
   "metadata": {},
   "outputs": [],
   "source": [
    "df_all = pd.concat([df, df5['churn']], axis=1)"
   ]
  },
  {
   "cell_type": "markdown",
   "id": "9eaa2ff4",
   "metadata": {},
   "source": [
    "## 5.2. Balanceamento da variável resposta"
   ]
  },
  {
   "cell_type": "code",
   "execution_count": 40,
   "id": "dc3a4f33",
   "metadata": {},
   "outputs": [],
   "source": [
    "x = df_all.iloc[:,0:40]\n",
    "y = df_all.iloc[:, -1]\n",
    "\n",
    "smote = SMOTE()\n",
    "\n",
    "x, y = smote.fit_resample(x,y)"
   ]
  },
  {
   "cell_type": "markdown",
   "id": "ec412b9c",
   "metadata": {},
   "source": [
    "## 5.3. Rescaling"
   ]
  },
  {
   "cell_type": "code",
   "execution_count": 41,
   "id": "fe301bbf",
   "metadata": {},
   "outputs": [],
   "source": [
    "mms = MinMaxScaler()\n",
    "\n",
    "x = mms.fit_transform(x)"
   ]
  },
  {
   "cell_type": "markdown",
   "id": "9f855d29",
   "metadata": {},
   "source": [
    "# 6.0 MODELO DE MACHINE LEARNING"
   ]
  },
  {
   "cell_type": "code",
   "execution_count": 42,
   "id": "88ab9cdc",
   "metadata": {},
   "outputs": [],
   "source": [
    "X_train, X_test, y_train, y_test = train_test_split(x, y, test_size=0.20)"
   ]
  },
  {
   "cell_type": "markdown",
   "id": "d0987bac",
   "metadata": {},
   "source": [
    "## 6.1. Random Forest"
   ]
  },
  {
   "cell_type": "code",
   "execution_count": 43,
   "id": "b5be4a25",
   "metadata": {},
   "outputs": [
    {
     "data": {
      "text/plain": [
       "RandomForestClassifier()"
      ]
     },
     "execution_count": 43,
     "metadata": {},
     "output_type": "execute_result"
    }
   ],
   "source": [
    "random_forest = RandomForestClassifier()\n",
    "random_forest.fit(X_train, y_train)"
   ]
  },
  {
   "cell_type": "code",
   "execution_count": 44,
   "id": "66c4d25c",
   "metadata": {},
   "outputs": [
    {
     "data": {
      "text/plain": [
       "100.0"
      ]
     },
     "execution_count": 44,
     "metadata": {},
     "output_type": "execute_result"
    }
   ],
   "source": [
    "y_pred = random_forest.predict(X_test)\n",
    "accuracy_score(y_test, y_pred)*100"
   ]
  },
  {
   "cell_type": "code",
   "execution_count": 45,
   "id": "4bf2ae3c",
   "metadata": {},
   "outputs": [
    {
     "name": "stdout",
     "output_type": "stream",
     "text": [
      "              precision    recall  f1-score   support\n",
      "\n",
      "           0       1.00      1.00      1.00      1035\n",
      "           1       1.00      1.00      1.00      1035\n",
      "\n",
      "    accuracy                           1.00      2070\n",
      "   macro avg       1.00      1.00      1.00      2070\n",
      "weighted avg       1.00      1.00      1.00      2070\n",
      "\n"
     ]
    }
   ],
   "source": [
    "print(classification_report(y_test, y_pred))"
   ]
  },
  {
   "cell_type": "markdown",
   "id": "d49ac789",
   "metadata": {},
   "source": [
    "## 6.2. Regressão Logística"
   ]
  },
  {
   "cell_type": "code",
   "execution_count": 46,
   "id": "ca5a7245",
   "metadata": {},
   "outputs": [
    {
     "data": {
      "text/plain": [
       "LogisticRegression()"
      ]
     },
     "execution_count": 46,
     "metadata": {},
     "output_type": "execute_result"
    }
   ],
   "source": [
    "regr_logist = LogisticRegression()\n",
    "regr_logist.fit(X_train, y_train)"
   ]
  },
  {
   "cell_type": "code",
   "execution_count": 47,
   "id": "63ec3749",
   "metadata": {},
   "outputs": [
    {
     "data": {
      "text/plain": [
       "100.0"
      ]
     },
     "execution_count": 47,
     "metadata": {},
     "output_type": "execute_result"
    }
   ],
   "source": [
    "y_pred = regr_logist.predict(X_test)\n",
    "accuracy_score(y_test, y_pred)*100"
   ]
  },
  {
   "cell_type": "code",
   "execution_count": 48,
   "id": "cb43b4e7",
   "metadata": {},
   "outputs": [
    {
     "name": "stdout",
     "output_type": "stream",
     "text": [
      "              precision    recall  f1-score   support\n",
      "\n",
      "           0       1.00      1.00      1.00      1035\n",
      "           1       1.00      1.00      1.00      1035\n",
      "\n",
      "    accuracy                           1.00      2070\n",
      "   macro avg       1.00      1.00      1.00      2070\n",
      "weighted avg       1.00      1.00      1.00      2070\n",
      "\n"
     ]
    }
   ],
   "source": [
    "print(classification_report(y_test, y_pred))"
   ]
  },
  {
   "cell_type": "markdown",
   "id": "5f3fa5f5",
   "metadata": {},
   "source": [
    "## 6.3. Decision Tree"
   ]
  },
  {
   "cell_type": "code",
   "execution_count": 49,
   "id": "fddc1fd6",
   "metadata": {},
   "outputs": [
    {
     "data": {
      "text/plain": [
       "DecisionTreeClassifier()"
      ]
     },
     "execution_count": 49,
     "metadata": {},
     "output_type": "execute_result"
    }
   ],
   "source": [
    "decision_tree = DecisionTreeClassifier()\n",
    "decision_tree.fit(X_train, y_train)"
   ]
  },
  {
   "cell_type": "code",
   "execution_count": 50,
   "id": "f64118b8",
   "metadata": {},
   "outputs": [
    {
     "data": {
      "text/plain": [
       "100.0"
      ]
     },
     "execution_count": 50,
     "metadata": {},
     "output_type": "execute_result"
    }
   ],
   "source": [
    "y_pred = decision_tree.predict(X_test)\n",
    "accuracy_score(y_test, y_pred)*100"
   ]
  },
  {
   "cell_type": "code",
   "execution_count": 51,
   "id": "a4b4fc5b",
   "metadata": {},
   "outputs": [
    {
     "name": "stdout",
     "output_type": "stream",
     "text": [
      "              precision    recall  f1-score   support\n",
      "\n",
      "           0       1.00      1.00      1.00      1035\n",
      "           1       1.00      1.00      1.00      1035\n",
      "\n",
      "    accuracy                           1.00      2070\n",
      "   macro avg       1.00      1.00      1.00      2070\n",
      "weighted avg       1.00      1.00      1.00      2070\n",
      "\n"
     ]
    }
   ],
   "source": [
    "print(classification_report(y_test, y_pred))"
   ]
  },
  {
   "cell_type": "markdown",
   "id": "1f0b42c2",
   "metadata": {},
   "source": [
    "## 6.4. SVM"
   ]
  },
  {
   "cell_type": "code",
   "execution_count": 52,
   "id": "bdd6374d",
   "metadata": {},
   "outputs": [
    {
     "data": {
      "text/plain": [
       "SVC()"
      ]
     },
     "execution_count": 52,
     "metadata": {},
     "output_type": "execute_result"
    }
   ],
   "source": [
    "svm = SVC()\n",
    "svm.fit(X_train, y_train)"
   ]
  },
  {
   "cell_type": "code",
   "execution_count": 53,
   "id": "6da8f367",
   "metadata": {},
   "outputs": [
    {
     "data": {
      "text/plain": [
       "100.0"
      ]
     },
     "execution_count": 53,
     "metadata": {},
     "output_type": "execute_result"
    }
   ],
   "source": [
    "y_pred = svm.predict(X_test)\n",
    "accuracy_score(y_test, y_pred)*100"
   ]
  },
  {
   "cell_type": "code",
   "execution_count": 54,
   "id": "45572d09",
   "metadata": {},
   "outputs": [
    {
     "name": "stdout",
     "output_type": "stream",
     "text": [
      "              precision    recall  f1-score   support\n",
      "\n",
      "           0       1.00      1.00      1.00      1035\n",
      "           1       1.00      1.00      1.00      1035\n",
      "\n",
      "    accuracy                           1.00      2070\n",
      "   macro avg       1.00      1.00      1.00      2070\n",
      "weighted avg       1.00      1.00      1.00      2070\n",
      "\n"
     ]
    }
   ],
   "source": [
    "print(classification_report(y_test, y_pred))"
   ]
  },
  {
   "cell_type": "markdown",
   "id": "592d998b",
   "metadata": {},
   "source": [
    "## 6.5. XGBoost"
   ]
  },
  {
   "cell_type": "code",
   "execution_count": 55,
   "id": "3b6cf7d0",
   "metadata": {},
   "outputs": [
    {
     "name": "stdout",
     "output_type": "stream",
     "text": [
      "[16:43:58] WARNING: C:/Users/Administrator/workspace/xgboost-win64_release_1.3.0/src/learner.cc:1061: Starting in XGBoost 1.3.0, the default evaluation metric used with the objective 'binary:logistic' was changed from 'error' to 'logloss'. Explicitly set eval_metric if you'd like to restore the old behavior.\n"
     ]
    },
    {
     "name": "stderr",
     "output_type": "stream",
     "text": [
      "C:\\Users\\usuario\\.conda\\envs\\Projeto-Churn\\lib\\site-packages\\xgboost\\sklearn.py:888: UserWarning: The use of label encoder in XGBClassifier is deprecated and will be removed in a future release. To remove this warning, do the following: 1) Pass option use_label_encoder=False when constructing XGBClassifier object; and 2) Encode your labels (y) as integers starting with 0, i.e. 0, 1, 2, ..., [num_class - 1].\n",
      "  warnings.warn(label_encoder_deprecation_msg, UserWarning)\n"
     ]
    },
    {
     "data": {
      "text/plain": [
       "XGBClassifier(base_score=0.5, booster='gbtree', colsample_bylevel=1,\n",
       "              colsample_bynode=1, colsample_bytree=1, gamma=0, gpu_id=-1,\n",
       "              importance_type='gain', interaction_constraints='',\n",
       "              learning_rate=0.300000012, max_delta_step=0, max_depth=6,\n",
       "              min_child_weight=1, missing=nan, monotone_constraints='()',\n",
       "              n_estimators=100, n_jobs=12, num_parallel_tree=1, random_state=0,\n",
       "              reg_alpha=0, reg_lambda=1, scale_pos_weight=1, subsample=1,\n",
       "              tree_method='exact', validate_parameters=1, verbosity=None)"
      ]
     },
     "execution_count": 55,
     "metadata": {},
     "output_type": "execute_result"
    }
   ],
   "source": [
    "xgb = XGBClassifier()\n",
    "xgb.fit(X_train, y_train)"
   ]
  },
  {
   "cell_type": "code",
   "execution_count": 56,
   "id": "87be0b20",
   "metadata": {},
   "outputs": [
    {
     "data": {
      "text/plain": [
       "100.0"
      ]
     },
     "execution_count": 56,
     "metadata": {},
     "output_type": "execute_result"
    }
   ],
   "source": [
    "y_pred = xgb.predict(X_test)\n",
    "accuracy_score(y_test, y_pred)*100"
   ]
  },
  {
   "cell_type": "code",
   "execution_count": 57,
   "id": "bb6f3a23",
   "metadata": {},
   "outputs": [
    {
     "name": "stdout",
     "output_type": "stream",
     "text": [
      "              precision    recall  f1-score   support\n",
      "\n",
      "           0       1.00      1.00      1.00      1035\n",
      "           1       1.00      1.00      1.00      1035\n",
      "\n",
      "    accuracy                           1.00      2070\n",
      "   macro avg       1.00      1.00      1.00      2070\n",
      "weighted avg       1.00      1.00      1.00      2070\n",
      "\n"
     ]
    }
   ],
   "source": [
    "print(classification_report(y_test, y_pred))"
   ]
  },
  {
   "cell_type": "markdown",
   "id": "1f749647",
   "metadata": {},
   "source": [
    "# 7.0 SALVANDO O CLASSIFICADOR"
   ]
  },
  {
   "cell_type": "code",
   "execution_count": 58,
   "id": "b753c1d4",
   "metadata": {},
   "outputs": [],
   "source": [
    "with open('variaveismodelo.pkl', 'wb') as f:\n",
    "    pickle.dump([smote, onn, mms, random_forest], f)"
   ]
  }
 ],
 "metadata": {
  "kernelspec": {
   "display_name": "Python 3",
   "language": "python",
   "name": "python3"
  },
  "language_info": {
   "codemirror_mode": {
    "name": "ipython",
    "version": 3
   },
   "file_extension": ".py",
   "mimetype": "text/x-python",
   "name": "python",
   "nbconvert_exporter": "python",
   "pygments_lexer": "ipython3",
   "version": "3.8.8"
  }
 },
 "nbformat": 4,
 "nbformat_minor": 5
}
